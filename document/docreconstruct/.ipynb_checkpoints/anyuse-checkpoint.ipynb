{
 "cells": [
  {
   "cell_type": "code",
   "execution_count": 1,
   "metadata": {
    "collapsed": false,
    "scrolled": false
   },
   "outputs": [],
   "source": [
    "#coding=utf-8\n",
    "'''\n",
    "预处理未标注的word数据\n",
    "'''\n",
    "#coding=utf-8\n",
    "import pandas as pd\n",
    "import  numpy as np\n",
    "from sklearn import preprocessing\n",
    "from  sklearn.preprocessing import MinMaxScaler\n",
    "df  = pd.read_csv('data/train_bianhao_clean.csv',encoding='gbk')"
   ]
  },
  {
   "cell_type": "code",
   "execution_count": 2,
   "metadata": {
    "collapsed": false
   },
   "outputs": [],
   "source": [
    "data1 = np.array(df['字号'])\n",
    "# data1\n",
    "# # print (data1)\n",
    "# # print(pd.Series(normalizefont()))\n",
    "everyfont = [] #每一篇文章的字号集合\n",
    "onehotfont = []\n",
    "fontdata = []\n",
    "index_null =0\n",
    "for font in data1:  #每篇文档的字号减去正文字号，然后求标准化\n",
    "    index_null +=1\n",
    "    if (font!='-'):\n",
    "        everyfont.append(float(font))\n",
    "    elif len(everyfont)!=0:\n",
    "        common_value = max(everyfont,key=everyfont.count)\n",
    "        dataminusfont = [everyfontx-common_value for everyfontx in everyfont] #减去正文字体\n",
    "        dataminusfont = np.array(dataminusfont)\n",
    "#         datafontlast = MinMaxScaler().fit_transform(dataminusfont.reshape(-1,1)) #调用sklearn库进行标准化\n",
    "#         for value in range(len(dataminusfont)):\n",
    "#             if(dataminusfont[value]>0):\n",
    "#                 dataminusfont[value]=1\n",
    "#             elif dataminusfont[value]<0:\n",
    "#                 dataminusfont[value]=-1\n",
    "        fontdata = np.append(fontdata,dataminusfont)\n",
    "        fontdata = np.append(fontdata,np.array(['100'])) #添加每篇的分隔符\n",
    "        onehotfont = np.append(onehotfont,dataminusfont)\n",
    "        onehotfont = np.append(onehotfont,np.array(['100'])) #添加每篇的分隔符\n",
    "        everyfont=[]\n",
    "\n",
    "    else:\n",
    "        print(\"请定位%d 并查看结果\"%index_null)\n",
    "del df['字号']\n",
    "# print (onehotfont)\n",
    "df['字号'] = pd.Series(fontdata)"
   ]
  },
  {
   "cell_type": "code",
   "execution_count": 4,
   "metadata": {
    "collapsed": false
   },
   "outputs": [
    {
     "data": {
      "text/plain": [
       "8        0.0\n",
       "10       0.0\n",
       "12       0.0\n",
       "14       0.0\n",
       "27       1.0\n",
       "51       1.0\n",
       "87       1.0\n",
       "94       1.0\n",
       "102      1.0\n",
       "116      1.0\n",
       "120      1.0\n",
       "151      1.0\n",
       "170      1.0\n",
       "180      1.0\n",
       "219      1.0\n",
       "269      1.0\n",
       "282      1.0\n",
       "297      1.0\n",
       "330      1.0\n",
       "390      1.0\n",
       "406      1.0\n",
       "414      1.0\n",
       "437      1.0\n",
       "457      1.0\n",
       "472      1.0\n",
       "507      1.0\n",
       "520      1.0\n",
       "522      1.0\n",
       "561      1.0\n",
       "577      1.0\n",
       "        ... \n",
       "82076    1.0\n",
       "82097    1.0\n",
       "82136    1.0\n",
       "82150    1.0\n",
       "82156    1.0\n",
       "82188    1.0\n",
       "82210    1.0\n",
       "82251    1.0\n",
       "82269    1.0\n",
       "82303    1.0\n",
       "82305    1.0\n",
       "82307    1.0\n",
       "82360    1.0\n",
       "82375    0.0\n",
       "82396    0.0\n",
       "82408    1.0\n",
       "82418    0.0\n",
       "82431    1.0\n",
       "82455    1.0\n",
       "82511    1.0\n",
       "82520    1.0\n",
       "82524    1.0\n",
       "82557    1.0\n",
       "82561    1.0\n",
       "82578    1.0\n",
       "82592    1.0\n",
       "82605    1.0\n",
       "82663    1.0\n",
       "82690    1.0\n",
       "82740    1.0\n",
       "Name: 字号, dtype: object"
      ]
     },
     "execution_count": 4,
     "metadata": {},
     "output_type": "execute_result"
    }
   ],
   "source": [
    "df.loc[df['段落角色']=='一级标题','字号']"
   ]
  },
  {
   "cell_type": "code",
   "execution_count": null,
   "metadata": {
    "collapsed": true
   },
   "outputs": [],
   "source": []
  }
 ],
 "metadata": {
  "kernelspec": {
   "display_name": "Python 3",
   "language": "python",
   "name": "python3"
  },
  "language_info": {
   "codemirror_mode": {
    "name": "ipython",
    "version": 3
   },
   "file_extension": ".py",
   "mimetype": "text/x-python",
   "name": "python",
   "nbconvert_exporter": "python",
   "pygments_lexer": "ipython3",
   "version": "3.6.0"
  }
 },
 "nbformat": 4,
 "nbformat_minor": 2
}
