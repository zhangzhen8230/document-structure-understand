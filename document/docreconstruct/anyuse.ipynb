{
 "cells": [
  {
   "cell_type": "code",
   "execution_count": 5,
   "metadata": {
    "collapsed": false,
    "scrolled": false
   },
   "outputs": [],
   "source": [
    "#coding=utf-8\n",
    "'''\n",
    "预处理未标注的word数据\n",
    "'''\n",
    "#coding=utf-8\n",
    "import pandas as pd\n",
    "import  numpy as np\n",
    "from sklearn import preprocessing\n",
    "from  sklearn.preprocessing import MinMaxScaler\n",
    "df  = pd.read_csv('data/train_bianhao_clean.csv',encoding='gbk')"
   ]
  },
  {
   "cell_type": "code",
   "execution_count": 6,
   "metadata": {
    "collapsed": false
   },
   "outputs": [],
   "source": [
    "data1 = np.array(df['字号'])\n",
    "# data1\n",
    "# # print (data1)\n",
    "# # print(pd.Series(normalizefont()))\n",
    "everyfont = [] #每一篇文章的字号集合\n",
    "onehotfont = []\n",
    "fontdata = []\n",
    "index_null =0\n",
    "for font in data1:  #每篇文档的字号减去正文字号，然后求标准化\n",
    "    index_null +=1\n",
    "    if (font!='-'):\n",
    "        everyfont.append(float(font))\n",
    "    elif len(everyfont)!=0:\n",
    "        common_value = max(everyfont,key=everyfont.count)\n",
    "        dataminusfont = [everyfontx-common_value for everyfontx in everyfont] #减去正文字体\n",
    "        dataminusfont = np.array(dataminusfont)\n",
    "#         datafontlast = MinMaxScaler().fit_transform(dataminusfont.reshape(-1,1)) #调用sklearn库进行标准化\n",
    "#         for value in range(len(dataminusfont)):\n",
    "#             if(dataminusfont[value]>0):\n",
    "#                 dataminusfont[value]=1\n",
    "#             elif dataminusfont[value]<0:\n",
    "#                 dataminusfont[value]=-1\n",
    "        fontdata = np.append(fontdata,dataminusfont)\n",
    "        fontdata = np.append(fontdata,np.array(['100'])) #添加每篇的分隔符\n",
    "        onehotfont = np.append(onehotfont,dataminusfont)\n",
    "        onehotfont = np.append(onehotfont,np.array(['100'])) #添加每篇的分隔符\n",
    "        everyfont=[]\n",
    "\n",
    "    else:\n",
    "        print(\"请定位%d 并查看结果\"%index_null)\n",
    "del df['字号']\n",
    "# print (onehotfont)\n",
    "df['字号'] = pd.Series(fontdata)"
   ]
  },
  {
   "cell_type": "code",
   "execution_count": 8,
   "metadata": {
    "collapsed": false
   },
   "outputs": [
    {
     "data": {
      "text/plain": [
       "3.5     2392\n",
       "0.0     1306\n",
       "1.5     1077\n",
       "2.0      173\n",
       "7.5      153\n",
       "5.0       75\n",
       "4.0       55\n",
       "5.5       52\n",
       "3.0       51\n",
       "4.5       34\n",
       "1.0       31\n",
       "-1.5       8\n",
       "9.0        5\n",
       "6.0        5\n",
       "10.0       5\n",
       "0.5        4\n",
       "8.0        3\n",
       "-1.0       3\n",
       "-2.0       2\n",
       "-0.5       2\n",
       "2.5        2\n",
       "11.5       1\n",
       "-3.0       1\n",
       "Name: 字号, dtype: int64"
      ]
     },
     "execution_count": 8,
     "metadata": {},
     "output_type": "execute_result"
    }
   ],
   "source": [
    "df.loc[df['段落角色']=='一级标题','字号'].value_counts()"
   ]
  },
  {
   "cell_type": "code",
   "execution_count": null,
   "metadata": {
    "collapsed": true
   },
   "outputs": [],
   "source": []
  }
 ],
 "metadata": {
  "kernelspec": {
   "display_name": "Python 3",
   "language": "python",
   "name": "python3"
  },
  "language_info": {
   "codemirror_mode": {
    "name": "ipython",
    "version": 3
   },
   "file_extension": ".py",
   "mimetype": "text/x-python",
   "name": "python",
   "nbconvert_exporter": "python",
   "pygments_lexer": "ipython3",
   "version": "3.6.0"
  }
 },
 "nbformat": 4,
 "nbformat_minor": 2
}
