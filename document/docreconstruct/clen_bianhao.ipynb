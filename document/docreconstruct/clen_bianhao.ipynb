{
 "cells": [
  {
   "cell_type": "code",
   "execution_count": 256,
   "metadata": {},
   "outputs": [],
   "source": [
    "#coding=utf-8\n",
    "'''\n",
    "预处理未标注的word数据\n",
    "'''\n",
    "#coding=utf-8\n",
    "import pandas as pd\n",
    "import  numpy as np\n",
    "import csv\n",
    "from sklearn import preprocessing\n",
    "from  sklearn.preprocessing import MinMaxScaler\n",
    "df  = pd.read_table('traindata.txt',sep='\\t',quoting=csv.QUOTE_NONE,encoding='utf-8')"
   ]
  },
  {
   "cell_type": "code",
   "execution_count": 257,
   "metadata": {},
   "outputs": [],
   "source": [
    "def clean_big_data(x):\n",
    "    try:\n",
    "          if (float(x)>10):\n",
    "              return 'null'\n",
    "          else :\n",
    "               return '数字1'\n",
    "    except:\n",
    "          return x"
   ]
  },
  {
   "cell_type": "code",
   "execution_count": 258,
   "metadata": {},
   "outputs": [],
   "source": [
    "import regex as re\n",
    "def clean_value_change(x):\n",
    "    if (x!='null') & ('.' in str(x)):  \n",
    "#         x = '长度'+str(len(str(x).split('.')))\n",
    "        x = '长度'+str(len(str(x).split('.')))\n",
    "    elif (x!='null') &((')' in str(x))|('）' in str(x))|('（' in str(x))|(']' in str(x))):  \n",
    "        x =  '括号'\n",
    "    r1 = re.compile(u'[0-9][、|.|,|．|，]')\n",
    "    r2 = re.compile(u'[④|①|②|③|⑤|⑦|△|⑥]')\n",
    "    r3 = re.compile(u'[一|二|三|四|五|六|第]')\n",
    "#     r4 = re.compile(u'[|二|三|四|五|六|第]')\n",
    "    try:\n",
    "        if(len(r1.findall(x))!=0):\n",
    "            return '数字+符号'\n",
    "        elif(len(r2.findall(x))!=0):\n",
    "            return '罗马符号'\n",
    "        elif(len(r3.findall(x))!=0):\n",
    "            return '一级'\n",
    "        else:\n",
    "            return x\n",
    "    except:\n",
    "            return x"
   ]
  },
  {
   "cell_type": "code",
   "execution_count": 203,
   "metadata": {},
   "outputs": [],
   "source": [
    "import regex as re\n",
    "def clean_x_null(x):\n",
    "    if(x=='-'):\n",
    "        return x\n",
    "    r1 = re.compile(u'[数字|括号|长度|一级|罗马符号|六|第]')\n",
    "    try:\n",
    "        if(len(r1.findall(x))!=0):\n",
    "                return x\n",
    "        else:\n",
    "                return 'null'\n",
    "    except:\n",
    "        pass"
   ]
  },
  {
   "cell_type": "code",
   "execution_count": 261,
   "metadata": {},
   "outputs": [],
   "source": [
    "df['编号处理'] = df['编号'].map(lambda x: clean_big_data(x))\n",
    "df['编号处理'] = df['编号处理'].map(lambda x: clean_value_change(x))\n",
    "df['编号处理'] = df['编号处理'].map(lambda x: clean_x_null(x))\n",
    "df_bianhao = pd.get_dummies(df['编号处理'])\n",
    "len_df_bianhao = len(df_bianhao.loc[(df_bianhao['-']==1)])\n",
    "df_bianhao.loc[(df_bianhao['-']==1)]=[['-','-','-','-','-','-','-','-','-','-']]*len_df_bianhao\n",
    "df = pd.concat((df,df_bianhao))\n",
    "df.to_csv('../data/train_bianhao_clean.csv',index=False)"
   ]
  },
  {
   "cell_type": "code",
   "execution_count": null,
   "metadata": {},
   "outputs": [],
   "source": [
    ""
   ]
  }
 ],
 "metadata": {
  "kernelspec": {
   "display_name": "Python 3",
   "language": "python",
   "name": "python3"
  },
  "language_info": {
   "codemirror_mode": {
    "name": "ipython",
    "version": 3.0
   },
   "file_extension": ".py",
   "mimetype": "text/x-python",
   "name": "python",
   "nbconvert_exporter": "python",
   "pygments_lexer": "ipython3",
   "version": "3.6.0"
  }
 },
 "nbformat": 4,
 "nbformat_minor": 2
}