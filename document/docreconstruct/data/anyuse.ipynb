{
 "cells": [
  {
   "cell_type": "code",
   "execution_count": 6,
   "metadata": {
    "collapsed": false,
    "scrolled": true
   },
   "outputs": [
    {
     "name": "stdout",
     "output_type": "stream",
     "text": [
      "1             85042\n",
      "0             25207\n",
      "0.5            1736\n",
      "0.6666667      1575\n",
      "0.75           1237\n",
      "0.8            1037\n",
      "0.995          1016\n",
      "0.5714286       920\n",
      "0.4             898\n",
      "0.625           868\n",
      "-               844\n",
      "0.3333333       820\n",
      "0.8333333       698\n",
      "0.8571429       669\n",
      "0.7             668\n",
      "0.6             635\n",
      "0.875           601\n",
      "0.99            544\n",
      "0.9             537\n",
      "0.25            533\n",
      "0.7272727       520\n",
      "0.8888889       517\n",
      "非数字             490\n",
      "0.98            465\n",
      "0.7857143       450\n",
      "0.7142857       437\n",
      "0.9090909       431\n",
      "0.7692308       410\n",
      "0.985           408\n",
      "0.5555556       392\n",
      "              ...  \n",
      "0.6768293         1\n",
      "0.5521472         1\n",
      "0.3675214         1\n",
      "0.3895349         1\n",
      "0.5037594         1\n",
      "0.1703297         1\n",
      "0.2210526         1\n",
      "0.4673913         1\n",
      "0.3282051         1\n",
      "0.6793478         1\n",
      "0.07070707        1\n",
      "0.2393162         1\n",
      "0.3697479         1\n",
      "0.5346535         1\n",
      "0.2047244         1\n",
      "0.06617647        1\n",
      "0.3596491         1\n",
      "0.613924          1\n",
      "0.04972376        1\n",
      "0.1398964         1\n",
      "0.715847          1\n",
      "0.0255102         1\n",
      "0.433121          1\n",
      "0.9219858         1\n",
      "0.1338583         1\n",
      "0.584             1\n",
      "0.1856287         1\n",
      "0.0257732         1\n",
      "0.2392638         1\n",
      "0.2301587         1\n",
      "Name: 邮箱符号, dtype: int64\n"
     ]
    }
   ],
   "source": [
    "#coding=utf-8\n",
    "'''\n",
    "预处理未标注的word数据\n",
    "'''\n",
    "#coding=utf-8\n",
    "import pandas as pd\n",
    "import  numpy as np\n",
    "import csv\n",
    "from sklearn import preprocessing\n",
    "from  sklearn.preprocessing import MinMaxScaler\n",
    "df  = pd.read_table('traindata.txt',sep='\\t',quoting=csv.QUOTE_NONE,encoding='utf-8')\n",
    "del df['文章名称'],df['文本内容']\n",
    "del df['字体']\n",
    "# df = df[df['段落角色']!='-']\n",
    "df.loc[df['中文比例']=='非数字','中文比例'] = 1\n",
    "df[df.isnull().values==True]\n",
    "\n",
    "# df.to_csv('train_2.csv',index=False,header=True,encoding='utf-8')"
   ]
  },
  {
   "cell_type": "code",
   "execution_count": 2,
   "metadata": {
    "collapsed": false,
    "scrolled": true
   },
   "outputs": [
    {
     "data": {
      "text/html": [
       "<div>\n",
       "<table border=\"1\" class=\"dataframe\">\n",
       "  <thead>\n",
       "    <tr style=\"text-align: right;\">\n",
       "      <th></th>\n",
       "      <th>段落角色</th>\n",
       "      <th>等号</th>\n",
       "      <th>关键字</th>\n",
       "      <th>字体</th>\n",
       "      <th>字号</th>\n",
       "      <th>字形</th>\n",
       "      <th>字数</th>\n",
       "      <th>编号</th>\n",
       "      <th>编号位置</th>\n",
       "      <th>word对象</th>\n",
       "      <th>行距</th>\n",
       "      <th>缩进</th>\n",
       "      <th>段前距</th>\n",
       "      <th>段后距</th>\n",
       "      <th>对齐方式</th>\n",
       "      <th>大纲级别</th>\n",
       "      <th>标点</th>\n",
       "      <th>中文比例</th>\n",
       "      <th>邮箱符号</th>\n",
       "    </tr>\n",
       "  </thead>\n",
       "  <tbody>\n",
       "  </tbody>\n",
       "</table>\n",
       "</div>"
      ],
      "text/plain": [
       "Empty DataFrame\n",
       "Columns: [段落角色, 等号, 关键字, 字体, 字号, 字形, 字数, 编号, 编号位置, word对象, 行距, 缩进, 段前距, 段后距, 对齐方式, 大纲级别, 标点, 中文比例, 邮箱符号]\n",
       "Index: []"
      ]
     },
     "execution_count": 2,
     "metadata": {},
     "output_type": "execute_result"
    }
   ],
   "source": [
    "df.loc[df['字号'].isnull()]"
   ]
  },
  {
   "cell_type": "code",
   "execution_count": 13,
   "metadata": {
    "collapsed": false
   },
   "outputs": [
    {
     "data": {
      "text/plain": [
       "Index(['关键字_abstract', '关键字_keywords', '关键字_key words', '关键字_null',\n",
       "       '关键字_关　键　词', '关键字_关键字', '关键字_关键词', '关键字_图', '关键字_摘　　要', '关键字_摘　要',\n",
       "       ...\n",
       "       '标点_True', '字形', '字数', '编号', '中文比例', '邮箱符号', '文章名称', '字号', 'd2v_id',\n",
       "       '段落角色'],\n",
       "      dtype='object', length=771)"
      ]
     },
     "execution_count": 13,
     "metadata": {},
     "output_type": "execute_result"
    }
   ],
   "source": [
    "df = pd.read_csv('train.csv',encoding='utf-8')\n",
    "df.columns"
   ]
  },
  {
   "cell_type": "code",
   "execution_count": 9,
   "metadata": {
    "collapsed": false
   },
   "outputs": [],
   "source": [
    "\n",
    "def clean_big_data(x):\n",
    "    try:\n",
    "          if (float(x)>10):\n",
    "              return 'null'\n",
    "          else :\n",
    "               return '数字1'\n",
    "    except:\n",
    "          return x\n",
    "     "
   ]
  },
  {
   "cell_type": "code",
   "execution_count": 10,
   "metadata": {
    "collapsed": false
   },
   "outputs": [],
   "source": [
    "import regex as re\n",
    "def clean_value_change(x):\n",
    "    if (x!='null') & ('.' in str(x)):  \n",
    "#         x = '长度'+str(len(str(x).split('.')))\n",
    "        x = '长度'+str(len(str(x).split('.')))\n",
    "    elif (x!='null') &((')' in str(x))|('）' in str(x))|('（' in str(x))|(']' in str(x))):  \n",
    "        x =  '括号'\n",
    "    r1 = re.compile(u'[0-9][、|.|,|．|，]')\n",
    "    r2 = re.compile(u'[④|①|②|③|⑤|⑦|△|⑥]')\n",
    "    r3 = re.compile(u'[一|二|三|四|五|六|第]')\n",
    "#     r4 = re.compile(u'[|二|三|四|五|六|第]')\n",
    "    try:\n",
    "        if(len(r1.findall(x))!=0):\n",
    "            return '数字+符号'\n",
    "        elif(len(r2.findall(x))!=0):\n",
    "            return '罗马符号'\n",
    "        elif(len(r3.findall(x))!=0):\n",
    "            return '一级'\n",
    "        else:\n",
    "            return x\n",
    "    except:\n",
    "            return x"
   ]
  },
  {
   "cell_type": "code",
   "execution_count": 11,
   "metadata": {
    "collapsed": false
   },
   "outputs": [],
   "source": [
    "import regex as re\n",
    "def clean_x_null(x):\n",
    "    if(x=='-'):\n",
    "        return x\n",
    "    r1 = re.compile(u'[数字|括号|长度|一级|罗马符号|六|第]')\n",
    "    try:\n",
    "        if(len(r1.findall(x))!=0):\n",
    "                return x\n",
    "        else:\n",
    "                return 'null'\n",
    "    except:\n",
    "        pass"
   ]
  },
  {
   "cell_type": "code",
   "execution_count": 12,
   "metadata": {
    "collapsed": false
   },
   "outputs": [
    {
     "name": "stdout",
     "output_type": "stream",
     "text": [
      "Index(['编号_-', '编号_null', '编号_一级', '编号_括号', '编号_数字+符号', '编号_数字1', '编号_罗马符号',\n",
      "       '编号_长度2', '编号_长度3', '编号_长度4'],\n",
      "      dtype='object')\n",
      "Index(['段落角色', '等号', '关键字', '字体', '字号', '字形', '字数', '编号', '编号位置', 'word对象',\n",
      "       '行距', '缩进', '段前距', '段后距', '对齐方式', '大纲级别', '标点', '中文比例', '邮箱符号',\n",
      "       '编号_null', '编号_一级', '编号_括号', '编号_数字+符号', '编号_数字1', '编号_罗马符号', '编号_长度2',\n",
      "       '编号_长度3', '编号_长度4'],\n",
      "      dtype='object')\n"
     ]
    }
   ],
   "source": [
    "df['编号处理'] = df['编号'].map(lambda x: clean_big_data(x))\n",
    "df['编号处理'] = df['编号处理'].map(lambda x: clean_value_change(x))\n",
    "df['编号处理'] = df['编号处理'].map(lambda x: clean_x_null(x))\n",
    "df_bianhao = pd.get_dummies(df['编号处理'],prefix='编号')\n",
    "print(df_bianhao.columns)\n",
    "len_df_bianhao = len(df_bianhao.loc[(df_bianhao['编号_-']==1)])\n",
    "df_bianhao.loc[(df_bianhao['编号_-']==1)]=[['-','-','-','-','-','-','-','-','-','-']]*len_df_bianhao\n",
    "\n",
    "del df_bianhao['编号_-']\n",
    "del df['编号处理']\n",
    "df = pd.concat([df,df_bianhao],axis=1)\n",
    "print(df.columns)\n",
    "df['关键字'] = df['关键字'].str.replace('　','')\n",
    "df['关键字'] = df['关键字'].str.replace(r'key.*words','keywords')\n",
    "df.to_csv('../data/train_bianhao_clean.csv',index=False)"
   ]
  },
  {
   "cell_type": "code",
   "execution_count": 7,
   "metadata": {
    "collapsed": false
   },
   "outputs": [
    {
     "name": "stdout",
     "output_type": "stream",
     "text": [
      "82762\n",
      "Series([], Name: 文本内容, dtype: object)\n"
     ]
    }
   ],
   "source": [
    "print(len(df))\n",
    "print(df.loc[df['字号'].isnull(),'文本内容'])"
   ]
  },
  {
   "cell_type": "code",
   "execution_count": 8,
   "metadata": {
    "collapsed": false
   },
   "outputs": [
    {
     "data": {
      "text/plain": [
       "null        70018\n",
       "图            5029\n",
       "表            1832\n",
       "摘要           1459\n",
       "-            1359\n",
       "关键词          1148\n",
       "abstract      964\n",
       "keywords      893\n",
       "关键字            60\n",
       "Name: 关键字, dtype: int64"
      ]
     },
     "execution_count": 8,
     "metadata": {},
     "output_type": "execute_result"
    }
   ],
   "source": [
    "df['关键字'].value_counts()"
   ]
  },
  {
   "cell_type": "code",
   "execution_count": 56,
   "metadata": {
    "collapsed": false
   },
   "outputs": [
    {
     "data": {
      "text/plain": [
       "'我站在'"
      ]
     },
     "execution_count": 56,
     "metadata": {},
     "output_type": "execute_result"
    }
   ],
   "source": [
    "\"我 站在\".replace(\" \",\"\")"
   ]
  },
  {
   "cell_type": "code",
   "execution_count": null,
   "metadata": {
    "collapsed": true
   },
   "outputs": [],
   "source": [
    "df['编号'.isnull]"
   ]
  },
  {
   "cell_type": "code",
   "execution_count": 19,
   "metadata": {
    "collapsed": false
   },
   "outputs": [
    {
     "data": {
      "text/plain": [
       "0    a\n",
       "1    b\n",
       "2    c\n",
       "dtype: object"
      ]
     },
     "execution_count": 19,
     "metadata": {},
     "output_type": "execute_result"
    }
   ],
   "source": [
    "s = pd.Series(list('abc'))\n",
    "s"
   ]
  },
  {
   "cell_type": "code",
   "execution_count": 20,
   "metadata": {
    "collapsed": false
   },
   "outputs": [
    {
     "data": {
      "text/html": [
       "<div>\n",
       "<table border=\"1\" class=\"dataframe\">\n",
       "  <thead>\n",
       "    <tr style=\"text-align: right;\">\n",
       "      <th></th>\n",
       "      <th>a</th>\n",
       "      <th>b</th>\n",
       "      <th>c</th>\n",
       "    </tr>\n",
       "  </thead>\n",
       "  <tbody>\n",
       "    <tr>\n",
       "      <th>0</th>\n",
       "      <td>1</td>\n",
       "      <td>0</td>\n",
       "      <td>0</td>\n",
       "    </tr>\n",
       "    <tr>\n",
       "      <th>1</th>\n",
       "      <td>0</td>\n",
       "      <td>1</td>\n",
       "      <td>0</td>\n",
       "    </tr>\n",
       "    <tr>\n",
       "      <th>2</th>\n",
       "      <td>0</td>\n",
       "      <td>0</td>\n",
       "      <td>1</td>\n",
       "    </tr>\n",
       "  </tbody>\n",
       "</table>\n",
       "</div>"
      ],
      "text/plain": [
       "   a  b  c\n",
       "0  1  0  0\n",
       "1  0  1  0\n",
       "2  0  0  1"
      ]
     },
     "execution_count": 20,
     "metadata": {},
     "output_type": "execute_result"
    }
   ],
   "source": [
    "s1 = pd.get_dummies(s,columns=('a','c','b'))\n",
    "s1"
   ]
  },
  {
   "cell_type": "code",
   "execution_count": null,
   "metadata": {
    "collapsed": true
   },
   "outputs": [],
   "source": []
  }
 ],
 "metadata": {
  "kernelspec": {
   "display_name": "Python 3",
   "language": "python",
   "name": "python3"
  },
  "language_info": {
   "codemirror_mode": {
    "name": "ipython",
    "version": 3
   },
   "file_extension": ".py",
   "mimetype": "text/x-python",
   "name": "python",
   "nbconvert_exporter": "python",
   "pygments_lexer": "ipython3",
   "version": "3.6.0"
  }
 },
 "nbformat": 4,
 "nbformat_minor": 2
}
